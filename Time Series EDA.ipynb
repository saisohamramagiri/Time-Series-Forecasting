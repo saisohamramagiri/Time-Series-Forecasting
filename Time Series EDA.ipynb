{
 "cells": [
  {
   "cell_type": "code",
   "execution_count": 1,
   "id": "78e65070",
   "metadata": {},
   "outputs": [
    {
     "name": "stdout",
     "output_type": "stream",
     "text": [
      "Collecting pandas-datareader\n",
      "  Downloading pandas_datareader-0.10.0-py3-none-any.whl (109 kB)\n",
      "Requirement already satisfied: pandas>=0.23 in c:\\users\\hp\\anaconda4\\lib\\site-packages (from pandas-datareader) (1.4.2)\n",
      "Requirement already satisfied: lxml in c:\\users\\hp\\anaconda4\\lib\\site-packages (from pandas-datareader) (4.8.0)\n",
      "Requirement already satisfied: requests>=2.19.0 in c:\\users\\hp\\anaconda4\\lib\\site-packages (from pandas-datareader) (2.27.1)\n",
      "Requirement already satisfied: python-dateutil>=2.8.1 in c:\\users\\hp\\anaconda4\\lib\\site-packages (from pandas>=0.23->pandas-datareader) (2.8.2)\n",
      "Requirement already satisfied: pytz>=2020.1 in c:\\users\\hp\\anaconda4\\lib\\site-packages (from pandas>=0.23->pandas-datareader) (2021.3)\n",
      "Requirement already satisfied: numpy>=1.18.5 in c:\\users\\hp\\anaconda4\\lib\\site-packages (from pandas>=0.23->pandas-datareader) (1.21.5)\n",
      "Requirement already satisfied: six>=1.5 in c:\\users\\hp\\anaconda4\\lib\\site-packages (from python-dateutil>=2.8.1->pandas>=0.23->pandas-datareader) (1.16.0)\n",
      "Requirement already satisfied: charset-normalizer~=2.0.0 in c:\\users\\hp\\anaconda4\\lib\\site-packages (from requests>=2.19.0->pandas-datareader) (2.0.4)\n",
      "Requirement already satisfied: idna<4,>=2.5 in c:\\users\\hp\\anaconda4\\lib\\site-packages (from requests>=2.19.0->pandas-datareader) (3.3)\n",
      "Requirement already satisfied: certifi>=2017.4.17 in c:\\users\\hp\\anaconda4\\lib\\site-packages (from requests>=2.19.0->pandas-datareader) (2021.10.8)\n",
      "Requirement already satisfied: urllib3<1.27,>=1.21.1 in c:\\users\\hp\\anaconda4\\lib\\site-packages (from requests>=2.19.0->pandas-datareader) (1.26.9)\n",
      "Installing collected packages: pandas-datareader\n",
      "Successfully installed pandas-datareader-0.10.0\n"
     ]
    },
    {
     "name": "stderr",
     "output_type": "stream",
     "text": [
      "WARNING: Ignoring invalid distribution -etuptools (c:\\users\\hp\\anaconda4\\lib\\site-packages)\n",
      "WARNING: Ignoring invalid distribution -etuptools (c:\\users\\hp\\anaconda4\\lib\\site-packages)\n",
      "WARNING: Ignoring invalid distribution -etuptools (c:\\users\\hp\\anaconda4\\lib\\site-packages)\n",
      "WARNING: Ignoring invalid distribution -etuptools (c:\\users\\hp\\anaconda4\\lib\\site-packages)\n",
      "WARNING: Ignoring invalid distribution -etuptools (c:\\users\\hp\\anaconda4\\lib\\site-packages)\n",
      "WARNING: Ignoring invalid distribution -etuptools (c:\\users\\hp\\anaconda4\\lib\\site-packages)\n",
      "WARNING: Ignoring invalid distribution -etuptools (c:\\users\\hp\\anaconda4\\lib\\site-packages)\n"
     ]
    }
   ],
   "source": [
    "## Install Pandas Data Reader\n",
    "!pip install pandas-datareader"
   ]
  },
  {
   "cell_type": "code",
   "execution_count": 2,
   "id": "c2074dd4",
   "metadata": {},
   "outputs": [],
   "source": [
    "import pandas_datareader as pdr\n",
    "import pandas as pd\n",
    "from datetime import datetime"
   ]
  },
  {
   "cell_type": "code",
   "execution_count": 3,
   "id": "f5804c33",
   "metadata": {},
   "outputs": [],
   "source": [
    "df_tesla=pdr.get_data_yahoo('TSLA')"
   ]
  },
  {
   "cell_type": "code",
   "execution_count": 4,
   "id": "6d430f47",
   "metadata": {},
   "outputs": [
    {
     "data": {
      "text/html": [
       "<div>\n",
       "<style scoped>\n",
       "    .dataframe tbody tr th:only-of-type {\n",
       "        vertical-align: middle;\n",
       "    }\n",
       "\n",
       "    .dataframe tbody tr th {\n",
       "        vertical-align: top;\n",
       "    }\n",
       "\n",
       "    .dataframe thead th {\n",
       "        text-align: right;\n",
       "    }\n",
       "</style>\n",
       "<table border=\"1\" class=\"dataframe\">\n",
       "  <thead>\n",
       "    <tr style=\"text-align: right;\">\n",
       "      <th></th>\n",
       "      <th>High</th>\n",
       "      <th>Low</th>\n",
       "      <th>Open</th>\n",
       "      <th>Close</th>\n",
       "      <th>Volume</th>\n",
       "      <th>Adj Close</th>\n",
       "    </tr>\n",
       "    <tr>\n",
       "      <th>Date</th>\n",
       "      <th></th>\n",
       "      <th></th>\n",
       "      <th></th>\n",
       "      <th></th>\n",
       "      <th></th>\n",
       "      <th></th>\n",
       "    </tr>\n",
       "  </thead>\n",
       "  <tbody>\n",
       "    <tr>\n",
       "      <th>2022-11-28</th>\n",
       "      <td>188.500000</td>\n",
       "      <td>179.000000</td>\n",
       "      <td>179.960007</td>\n",
       "      <td>182.919998</td>\n",
       "      <td>92905200.0</td>\n",
       "      <td>182.919998</td>\n",
       "    </tr>\n",
       "    <tr>\n",
       "      <th>2022-11-29</th>\n",
       "      <td>186.380005</td>\n",
       "      <td>178.750000</td>\n",
       "      <td>184.990005</td>\n",
       "      <td>180.830002</td>\n",
       "      <td>83357100.0</td>\n",
       "      <td>180.830002</td>\n",
       "    </tr>\n",
       "    <tr>\n",
       "      <th>2022-11-30</th>\n",
       "      <td>194.759995</td>\n",
       "      <td>180.630005</td>\n",
       "      <td>182.429993</td>\n",
       "      <td>194.699997</td>\n",
       "      <td>109186400.0</td>\n",
       "      <td>194.699997</td>\n",
       "    </tr>\n",
       "    <tr>\n",
       "      <th>2022-12-01</th>\n",
       "      <td>198.919998</td>\n",
       "      <td>191.800003</td>\n",
       "      <td>197.080002</td>\n",
       "      <td>194.699997</td>\n",
       "      <td>80046200.0</td>\n",
       "      <td>194.699997</td>\n",
       "    </tr>\n",
       "    <tr>\n",
       "      <th>2022-12-02</th>\n",
       "      <td>196.250000</td>\n",
       "      <td>191.110001</td>\n",
       "      <td>191.779999</td>\n",
       "      <td>194.860001</td>\n",
       "      <td>73533400.0</td>\n",
       "      <td>194.860001</td>\n",
       "    </tr>\n",
       "    <tr>\n",
       "      <th>2022-12-05</th>\n",
       "      <td>191.270004</td>\n",
       "      <td>180.550003</td>\n",
       "      <td>189.440002</td>\n",
       "      <td>182.449997</td>\n",
       "      <td>93122700.0</td>\n",
       "      <td>182.449997</td>\n",
       "    </tr>\n",
       "    <tr>\n",
       "      <th>2022-12-06</th>\n",
       "      <td>183.649994</td>\n",
       "      <td>175.330002</td>\n",
       "      <td>181.220001</td>\n",
       "      <td>179.820007</td>\n",
       "      <td>92150800.0</td>\n",
       "      <td>179.820007</td>\n",
       "    </tr>\n",
       "    <tr>\n",
       "      <th>2022-12-07</th>\n",
       "      <td>179.380005</td>\n",
       "      <td>172.220001</td>\n",
       "      <td>175.029999</td>\n",
       "      <td>174.039993</td>\n",
       "      <td>84213300.0</td>\n",
       "      <td>174.039993</td>\n",
       "    </tr>\n",
       "    <tr>\n",
       "      <th>2022-12-08</th>\n",
       "      <td>175.199997</td>\n",
       "      <td>169.059998</td>\n",
       "      <td>172.199997</td>\n",
       "      <td>173.440002</td>\n",
       "      <td>97478700.0</td>\n",
       "      <td>173.440002</td>\n",
       "    </tr>\n",
       "    <tr>\n",
       "      <th>2022-12-09</th>\n",
       "      <td>179.369995</td>\n",
       "      <td>173.360001</td>\n",
       "      <td>173.839996</td>\n",
       "      <td>178.007996</td>\n",
       "      <td>32043041.0</td>\n",
       "      <td>178.007996</td>\n",
       "    </tr>\n",
       "  </tbody>\n",
       "</table>\n",
       "</div>"
      ],
      "text/plain": [
       "                  High         Low        Open       Close       Volume  \\\n",
       "Date                                                                      \n",
       "2022-11-28  188.500000  179.000000  179.960007  182.919998   92905200.0   \n",
       "2022-11-29  186.380005  178.750000  184.990005  180.830002   83357100.0   \n",
       "2022-11-30  194.759995  180.630005  182.429993  194.699997  109186400.0   \n",
       "2022-12-01  198.919998  191.800003  197.080002  194.699997   80046200.0   \n",
       "2022-12-02  196.250000  191.110001  191.779999  194.860001   73533400.0   \n",
       "2022-12-05  191.270004  180.550003  189.440002  182.449997   93122700.0   \n",
       "2022-12-06  183.649994  175.330002  181.220001  179.820007   92150800.0   \n",
       "2022-12-07  179.380005  172.220001  175.029999  174.039993   84213300.0   \n",
       "2022-12-08  175.199997  169.059998  172.199997  173.440002   97478700.0   \n",
       "2022-12-09  179.369995  173.360001  173.839996  178.007996   32043041.0   \n",
       "\n",
       "             Adj Close  \n",
       "Date                    \n",
       "2022-11-28  182.919998  \n",
       "2022-11-29  180.830002  \n",
       "2022-11-30  194.699997  \n",
       "2022-12-01  194.699997  \n",
       "2022-12-02  194.860001  \n",
       "2022-12-05  182.449997  \n",
       "2022-12-06  179.820007  \n",
       "2022-12-07  174.039993  \n",
       "2022-12-08  173.440002  \n",
       "2022-12-09  178.007996  "
      ]
     },
     "execution_count": 4,
     "metadata": {},
     "output_type": "execute_result"
    }
   ],
   "source": [
    "df_tesla.tail(10)"
   ]
  },
  {
   "cell_type": "code",
   "execution_count": 8,
   "id": "b4450970",
   "metadata": {},
   "outputs": [
    {
     "data": {
      "text/plain": [
       "<AxesSubplot:xlabel='Date'>"
      ]
     },
     "execution_count": 8,
     "metadata": {},
     "output_type": "execute_result"
    },
    {
     "data": {
      "image/png": "[encoded data removed]",
      "text/plain": [
       "<Figure size 864x288 with 1 Axes>"
      ]
     },
     "metadata": {
      "needs_background": "light"
     },
     "output_type": "display_data"
    }
   ],
   "source": [
    "df_tesla['High'].plot(figsize=(12,4))"
   ]
  },
  {
   "cell_type": "code",
   "execution_count": 9,
   "id": "b0be1431",
   "metadata": {},
   "outputs": [
    {
     "data": {
      "text/plain": [
       "<AxesSubplot:xlabel='Date'>"
      ]
     },
     "execution_count": 9,
     "metadata": {},
     "output_type": "execute_result"
    },
    {
     "data": {
      "image/png": "[encoded data removed]",
      "text/plain": [
       "<Figure size 864x288 with 1 Axes>"
      ]
     },
     "metadata": {
      "needs_background": "light"
     },
     "output_type": "display_data"
    }
   ],
   "source": [
    "## xlimit and y limit\n",
    "df_tesla['High'].plot(xlim=['2020-01-01','2021-09-01'],figsize=(12,4))"
   ]
  },
  {
   "cell_type": "code",
   "execution_count": 10,
   "id": "13ee2bda",
   "metadata": {},
   "outputs": [
    {
     "data": {
      "text/plain": [
       "<AxesSubplot:xlabel='Date'>"
      ]
     },
     "execution_count": 10,
     "metadata": {},
     "output_type": "execute_result"
    },
    {
     "data": {
      "image/png": "[encoded data removed]",
      "text/plain": [
       "<Figure size 864x288 with 1 Axes>"
      ]
     },
     "metadata": {
      "needs_background": "light"
     },
     "output_type": "display_data"
    }
   ],
   "source": [
    "## xlimit and y limit\n",
    "df_tesla['High'].plot(xlim=['2020-01-01','2021-09-01'],ylim=[0,900],figsize=(12,4))"
   ]
  },
  {
   "cell_type": "code",
   "execution_count": 11,
   "id": "ee63ac2a",
   "metadata": {},
   "outputs": [
    {
     "data": {
      "text/plain": [
       "<AxesSubplot:xlabel='Date'>"
      ]
     },
     "execution_count": 11,
     "metadata": {},
     "output_type": "execute_result"
    },
    {
     "data": {
      "image/png": "[encoded data removed]",
      "text/plain": [
       "<Figure size 864x288 with 1 Axes>"
      ]
     },
     "metadata": {
      "needs_background": "light"
     },
     "output_type": "display_data"
    }
   ],
   "source": [
    "## xlimit and y limit and coloring\n",
    "df_tesla['High'].plot(xlim=['2020-01-01','2021-09-01'],ylim=[0,900],figsize=(12,4),ls='--',c='green')"
   ]
  },
  {
   "cell_type": "code",
   "execution_count": 12,
   "id": "1c3cbc49",
   "metadata": {},
   "outputs": [
    {
     "data": {
      "text/plain": [
       "DatetimeIndex(['2017-12-11', '2017-12-12', '2017-12-13', '2017-12-14',\n",
       "               '2017-12-15', '2017-12-18', '2017-12-19', '2017-12-20',\n",
       "               '2017-12-21', '2017-12-22',\n",
       "               ...\n",
       "               '2022-11-25', '2022-11-28', '2022-11-29', '2022-11-30',\n",
       "               '2022-12-01', '2022-12-02', '2022-12-05', '2022-12-06',\n",
       "               '2022-12-07', '2022-12-08'],\n",
       "              dtype='datetime64[ns]', name='Date', length=1258, freq=None)"
      ]
     },
     "execution_count": 12,
     "metadata": {},
     "output_type": "execute_result"
    }
   ],
   "source": [
    "df_tesla.index"
   ]
  },
  {
   "cell_type": "code",
   "execution_count": 14,
   "id": "24e37fd9",
   "metadata": {},
   "outputs": [],
   "source": [
    "index=df_tesla.loc['2020-01-01':'2021-09-01'].index\n",
    "share_open=df_tesla.loc['2020-01-01':'2021-09-01']['Open']"
   ]
  },
  {
   "cell_type": "code",
   "execution_count": 15,
   "id": "60258bad",
   "metadata": {},
   "outputs": [
    {
     "data": {
      "text/plain": [
       "Date\n",
       "2020-01-02     28.299999\n",
       "2020-01-03     29.366667\n",
       "2020-01-06     29.364668\n",
       "2020-01-07     30.760000\n",
       "2020-01-08     31.580000\n",
       "                 ...    \n",
       "2021-08-26    236.103333\n",
       "2021-08-27    235.000000\n",
       "2021-08-30    238.240005\n",
       "2021-08-31    244.333328\n",
       "2021-09-01    244.693329\n",
       "Name: Open, Length: 421, dtype: float64"
      ]
     },
     "execution_count": 15,
     "metadata": {},
     "output_type": "execute_result"
    }
   ],
   "source": [
    "share_open"
   ]
  },
  {
   "cell_type": "code",
   "execution_count": 16,
   "id": "4c3414ca",
   "metadata": {},
   "outputs": [
    {
     "data": {
      "text/plain": [
       "DatetimeIndex(['2020-01-02', '2020-01-03', '2020-01-06', '2020-01-07',\n",
       "               '2020-01-08', '2020-01-09', '2020-01-10', '2020-01-13',\n",
       "               '2020-01-14', '2020-01-15',\n",
       "               ...\n",
       "               '2021-08-19', '2021-08-20', '2021-08-23', '2021-08-24',\n",
       "               '2021-08-25', '2021-08-26', '2021-08-27', '2021-08-30',\n",
       "               '2021-08-31', '2021-09-01'],\n",
       "              dtype='datetime64[ns]', name='Date', length=421, freq=None)"
      ]
     },
     "execution_count": 16,
     "metadata": {},
     "output_type": "execute_result"
    }
   ],
   "source": [
    "index"
   ]
  },
  {
   "cell_type": "code",
   "execution_count": 17,
   "id": "e3c9b425",
   "metadata": {},
   "outputs": [],
   "source": [
    "import matplotlib.pyplot as plt\n",
    "%matplotlib inline"
   ]
  },
  {
   "cell_type": "code",
   "execution_count": 18,
   "id": "0bda2647",
   "metadata": {},
   "outputs": [
    {
     "data": {
      "text/plain": [
       "[<matplotlib.lines.Line2D at 0x153b9c54c10>]"
      ]
     },
     "execution_count": 18,
     "metadata": {},
     "output_type": "execute_result"
    },
    {
     "data": {
      "image/png": "[encoded data removed]",
      "text/plain": [
       "<Figure size 432x288 with 1 Axes>"
      ]
     },
     "metadata": {
      "needs_background": "light"
     },
     "output_type": "display_data"
    }
   ],
   "source": [
    "figure,axis=plt.subplots()\n",
    "plt.tight_layout()\n",
    "## Preventing overlapping\n",
    "figure.autofmt_xdate()\n",
    "axis.plot(index,share_open)"
   ]
  },
  {
   "cell_type": "code",
   "execution_count": 19,
   "id": "2c988f65",
   "metadata": {},
   "outputs": [],
   "source": [
    "## Datetime Index"
   ]
  },
  {
   "cell_type": "code",
   "execution_count": 20,
   "id": "40b74e20",
   "metadata": {},
   "outputs": [],
   "source": [
    "df_tesla=df_tesla.reset_index()"
   ]
  },
  {
   "cell_type": "code",
   "execution_count": 21,
   "id": "d815a7f6",
   "metadata": {},
   "outputs": [
    {
     "name": "stdout",
     "output_type": "stream",
     "text": [
      "<class 'pandas.core.frame.DataFrame'>\n",
      "RangeIndex: 1258 entries, 0 to 1257\n",
      "Data columns (total 7 columns):\n",
      " #   Column     Non-Null Count  Dtype         \n",
      "---  ------     --------------  -----         \n",
      " 0   Date       1258 non-null   datetime64[ns]\n",
      " 1   High       1258 non-null   float64       \n",
      " 2   Low        1258 non-null   float64       \n",
      " 3   Open       1258 non-null   float64       \n",
      " 4   Close      1258 non-null   float64       \n",
      " 5   Volume     1258 non-null   float64       \n",
      " 6   Adj Close  1258 non-null   float64       \n",
      "dtypes: datetime64[ns](1), float64(6)\n",
      "memory usage: 68.9 KB\n"
     ]
    }
   ],
   "source": [
    "df_tesla.info()\n"
   ]
  },
  {
   "cell_type": "code",
   "execution_count": 22,
   "id": "bf6f84f5",
   "metadata": {},
   "outputs": [],
   "source": [
    "df_tesla=df_tesla.set_index('Date',drop=True)"
   ]
  },
  {
   "cell_type": "code",
   "execution_count": 23,
   "id": "9557baf9",
   "metadata": {},
   "outputs": [
    {
     "data": {
      "text/html": [
       "<div>\n",
       "<style scoped>\n",
       "    .dataframe tbody tr th:only-of-type {\n",
       "        vertical-align: middle;\n",
       "    }\n",
       "\n",
       "    .dataframe tbody tr th {\n",
       "        vertical-align: top;\n",
       "    }\n",
       "\n",
       "    .dataframe thead th {\n",
       "        text-align: right;\n",
       "    }\n",
       "</style>\n",
       "<table border=\"1\" class=\"dataframe\">\n",
       "  <thead>\n",
       "    <tr style=\"text-align: right;\">\n",
       "      <th></th>\n",
       "      <th>High</th>\n",
       "      <th>Low</th>\n",
       "      <th>Open</th>\n",
       "      <th>Close</th>\n",
       "      <th>Volume</th>\n",
       "      <th>Adj Close</th>\n",
       "    </tr>\n",
       "    <tr>\n",
       "      <th>Date</th>\n",
       "      <th></th>\n",
       "      <th></th>\n",
       "      <th></th>\n",
       "      <th></th>\n",
       "      <th></th>\n",
       "      <th></th>\n",
       "    </tr>\n",
       "  </thead>\n",
       "  <tbody>\n",
       "    <tr>\n",
       "      <th>2017-12-11</th>\n",
       "      <td>21.934000</td>\n",
       "      <td>20.916668</td>\n",
       "      <td>20.975332</td>\n",
       "      <td>21.927334</td>\n",
       "      <td>119070000.0</td>\n",
       "      <td>21.927334</td>\n",
       "    </tr>\n",
       "    <tr>\n",
       "      <th>2017-12-12</th>\n",
       "      <td>22.762667</td>\n",
       "      <td>22.002001</td>\n",
       "      <td>22.030001</td>\n",
       "      <td>22.735332</td>\n",
       "      <td>130998000.0</td>\n",
       "      <td>22.735332</td>\n",
       "    </tr>\n",
       "    <tr>\n",
       "      <th>2017-12-13</th>\n",
       "      <td>22.948000</td>\n",
       "      <td>22.433332</td>\n",
       "      <td>22.728666</td>\n",
       "      <td>22.601999</td>\n",
       "      <td>93322500.0</td>\n",
       "      <td>22.601999</td>\n",
       "    </tr>\n",
       "    <tr>\n",
       "      <th>2017-12-14</th>\n",
       "      <td>23.162666</td>\n",
       "      <td>22.459999</td>\n",
       "      <td>22.733999</td>\n",
       "      <td>22.525999</td>\n",
       "      <td>86998500.0</td>\n",
       "      <td>22.525999</td>\n",
       "    </tr>\n",
       "    <tr>\n",
       "      <th>2017-12-15</th>\n",
       "      <td>22.926666</td>\n",
       "      <td>22.384001</td>\n",
       "      <td>22.802668</td>\n",
       "      <td>22.896667</td>\n",
       "      <td>103998000.0</td>\n",
       "      <td>22.896667</td>\n",
       "    </tr>\n",
       "  </tbody>\n",
       "</table>\n",
       "</div>"
      ],
      "text/plain": [
       "                 High        Low       Open      Close       Volume  Adj Close\n",
       "Date                                                                          \n",
       "2017-12-11  21.934000  20.916668  20.975332  21.927334  119070000.0  21.927334\n",
       "2017-12-12  22.762667  22.002001  22.030001  22.735332  130998000.0  22.735332\n",
       "2017-12-13  22.948000  22.433332  22.728666  22.601999   93322500.0  22.601999\n",
       "2017-12-14  23.162666  22.459999  22.733999  22.525999   86998500.0  22.525999\n",
       "2017-12-15  22.926666  22.384001  22.802668  22.896667  103998000.0  22.896667"
      ]
     },
     "execution_count": 23,
     "metadata": {},
     "output_type": "execute_result"
    }
   ],
   "source": [
    "df_tesla.head()"
   ]
  },
  {
   "cell_type": "code",
   "execution_count": 1,
   "id": "4a304089",
   "metadata": {},
   "outputs": [],
   "source": [
    "## datetime\n",
    "from datetime import datetime"
   ]
  },
  {
   "cell_type": "code",
   "execution_count": 6,
   "id": "4720516c",
   "metadata": {},
   "outputs": [
    {
     "data": {
      "text/plain": [
       "datetime.datetime(2021, 11, 21, 0, 0)"
      ]
     },
     "execution_count": 6,
     "metadata": {},
     "output_type": "execute_result"
    }
   ],
   "source": [
    "datetime(2021,11,21)"
   ]
  },
  {
   "cell_type": "code",
   "execution_count": 2,
   "id": "26a26314",
   "metadata": {},
   "outputs": [
    {
     "data": {
      "text/plain": [
       "datetime.datetime(2023, 6, 11, 20, 48, 56, 731754)"
      ]
     },
     "execution_count": 2,
     "metadata": {},
     "output_type": "execute_result"
    }
   ],
   "source": [
    "datetime.now()"
   ]
  },
  {
   "cell_type": "code",
   "execution_count": 9,
   "id": "fe934325",
   "metadata": {},
   "outputs": [],
   "source": [
    "date=datetime(2021,11,21)"
   ]
  },
  {
   "cell_type": "code",
   "execution_count": 9,
   "id": "636c515d",
   "metadata": {},
   "outputs": [
    {
     "data": {
      "text/plain": [
       "datetime.datetime(2021, 11, 21, 0, 0)"
      ]
     },
     "execution_count": 9,
     "metadata": {},
     "output_type": "execute_result"
    }
   ],
   "source": [
    "date"
   ]
  },
  {
   "cell_type": "code",
   "execution_count": 10,
   "id": "ef059ab1",
   "metadata": {},
   "outputs": [
    {
     "data": {
      "text/plain": [
       "datetime.date(2021, 11, 21)"
      ]
     },
     "execution_count": 10,
     "metadata": {},
     "output_type": "execute_result"
    }
   ],
   "source": [
    "date.date()"
   ]
  },
  {
   "cell_type": "code",
   "execution_count": 10,
   "id": "540cdd47",
   "metadata": {},
   "outputs": [
    {
     "data": {
      "text/plain": [
       "21"
      ]
     },
     "execution_count": 10,
     "metadata": {},
     "output_type": "execute_result"
    }
   ],
   "source": [
    "date.day\n"
   ]
  },
  {
   "cell_type": "code",
   "execution_count": 11,
   "id": "1018d03e",
   "metadata": {},
   "outputs": [
    {
     "data": {
      "text/plain": [
       "6"
      ]
     },
     "execution_count": 11,
     "metadata": {},
     "output_type": "execute_result"
    }
   ],
   "source": [
    "date.weekday()"
   ]
  },
  {
   "cell_type": "code",
   "execution_count": 32,
   "id": "4981513f",
   "metadata": {},
   "outputs": [
    {
     "data": {
      "text/plain": [
       "2021"
      ]
     },
     "execution_count": 32,
     "metadata": {},
     "output_type": "execute_result"
    }
   ],
   "source": [
    "date.year"
   ]
  },
  {
   "cell_type": "code",
   "execution_count": 33,
   "id": "4dce7e08",
   "metadata": {},
   "outputs": [
    {
     "data": {
      "text/plain": [
       "11"
      ]
     },
     "execution_count": 33,
     "metadata": {},
     "output_type": "execute_result"
    }
   ],
   "source": [
    "date.month"
   ]
  },
  {
   "cell_type": "markdown",
   "id": "b947290d",
   "metadata": {},
   "source": [
    "## Time Resampling"
   ]
  },
  {
   "cell_type": "code",
   "execution_count": 34,
   "id": "fe908696",
   "metadata": {},
   "outputs": [
    {
     "data": {
      "text/html": [
       "<div>\n",
       "<style scoped>\n",
       "    .dataframe tbody tr th:only-of-type {\n",
       "        vertical-align: middle;\n",
       "    }\n",
       "\n",
       "    .dataframe tbody tr th {\n",
       "        vertical-align: top;\n",
       "    }\n",
       "\n",
       "    .dataframe thead th {\n",
       "        text-align: right;\n",
       "    }\n",
       "</style>\n",
       "<table border=\"1\" class=\"dataframe\">\n",
       "  <thead>\n",
       "    <tr style=\"text-align: right;\">\n",
       "      <th></th>\n",
       "      <th>High</th>\n",
       "      <th>Low</th>\n",
       "      <th>Open</th>\n",
       "      <th>Close</th>\n",
       "      <th>Volume</th>\n",
       "      <th>Adj Close</th>\n",
       "    </tr>\n",
       "    <tr>\n",
       "      <th>Date</th>\n",
       "      <th></th>\n",
       "      <th></th>\n",
       "      <th></th>\n",
       "      <th></th>\n",
       "      <th></th>\n",
       "      <th></th>\n",
       "    </tr>\n",
       "  </thead>\n",
       "  <tbody>\n",
       "    <tr>\n",
       "      <th>2017-12-11</th>\n",
       "      <td>21.934000</td>\n",
       "      <td>20.916668</td>\n",
       "      <td>20.975332</td>\n",
       "      <td>21.927334</td>\n",
       "      <td>119070000.0</td>\n",
       "      <td>21.927334</td>\n",
       "    </tr>\n",
       "    <tr>\n",
       "      <th>2017-12-12</th>\n",
       "      <td>22.762667</td>\n",
       "      <td>22.002001</td>\n",
       "      <td>22.030001</td>\n",
       "      <td>22.735332</td>\n",
       "      <td>130998000.0</td>\n",
       "      <td>22.735332</td>\n",
       "    </tr>\n",
       "    <tr>\n",
       "      <th>2017-12-13</th>\n",
       "      <td>22.948000</td>\n",
       "      <td>22.433332</td>\n",
       "      <td>22.728666</td>\n",
       "      <td>22.601999</td>\n",
       "      <td>93322500.0</td>\n",
       "      <td>22.601999</td>\n",
       "    </tr>\n",
       "    <tr>\n",
       "      <th>2017-12-14</th>\n",
       "      <td>23.162666</td>\n",
       "      <td>22.459999</td>\n",
       "      <td>22.733999</td>\n",
       "      <td>22.525999</td>\n",
       "      <td>86998500.0</td>\n",
       "      <td>22.525999</td>\n",
       "    </tr>\n",
       "    <tr>\n",
       "      <th>2017-12-15</th>\n",
       "      <td>22.926666</td>\n",
       "      <td>22.384001</td>\n",
       "      <td>22.802668</td>\n",
       "      <td>22.896667</td>\n",
       "      <td>103998000.0</td>\n",
       "      <td>22.896667</td>\n",
       "    </tr>\n",
       "  </tbody>\n",
       "</table>\n",
       "</div>"
      ],
      "text/plain": [
       "                 High        Low       Open      Close       Volume  Adj Close\n",
       "Date                                                                          \n",
       "2017-12-11  21.934000  20.916668  20.975332  21.927334  119070000.0  21.927334\n",
       "2017-12-12  22.762667  22.002001  22.030001  22.735332  130998000.0  22.735332\n",
       "2017-12-13  22.948000  22.433332  22.728666  22.601999   93322500.0  22.601999\n",
       "2017-12-14  23.162666  22.459999  22.733999  22.525999   86998500.0  22.525999\n",
       "2017-12-15  22.926666  22.384001  22.802668  22.896667  103998000.0  22.896667"
      ]
     },
     "execution_count": 34,
     "metadata": {},
     "output_type": "execute_result"
    }
   ],
   "source": [
    "df_tesla.head()"
   ]
  },
  {
   "cell_type": "code",
   "execution_count": 35,
   "id": "60965f11",
   "metadata": {},
   "outputs": [
    {
     "data": {
      "text/html": [
       "<div>\n",
       "<style scoped>\n",
       "    .dataframe tbody tr th:only-of-type {\n",
       "        vertical-align: middle;\n",
       "    }\n",
       "\n",
       "    .dataframe tbody tr th {\n",
       "        vertical-align: top;\n",
       "    }\n",
       "\n",
       "    .dataframe thead th {\n",
       "        text-align: right;\n",
       "    }\n",
       "</style>\n",
       "<table border=\"1\" class=\"dataframe\">\n",
       "  <thead>\n",
       "    <tr style=\"text-align: right;\">\n",
       "      <th></th>\n",
       "      <th>High</th>\n",
       "      <th>Low</th>\n",
       "      <th>Open</th>\n",
       "      <th>Close</th>\n",
       "      <th>Volume</th>\n",
       "      <th>Adj Close</th>\n",
       "    </tr>\n",
       "    <tr>\n",
       "      <th>Date</th>\n",
       "      <th></th>\n",
       "      <th></th>\n",
       "      <th></th>\n",
       "      <th></th>\n",
       "      <th></th>\n",
       "      <th></th>\n",
       "    </tr>\n",
       "  </thead>\n",
       "  <tbody>\n",
       "    <tr>\n",
       "      <th>2017-12-31</th>\n",
       "      <td>21.054667</td>\n",
       "      <td>20.636000</td>\n",
       "      <td>20.783333</td>\n",
       "      <td>20.756666</td>\n",
       "      <td>56658000.0</td>\n",
       "      <td>20.756666</td>\n",
       "    </tr>\n",
       "    <tr>\n",
       "      <th>2018-12-31</th>\n",
       "      <td>17.355333</td>\n",
       "      <td>16.306000</td>\n",
       "      <td>16.851999</td>\n",
       "      <td>16.704000</td>\n",
       "      <td>46210500.0</td>\n",
       "      <td>16.704000</td>\n",
       "    </tr>\n",
       "    <tr>\n",
       "      <th>2019-12-31</th>\n",
       "      <td>12.445333</td>\n",
       "      <td>11.799333</td>\n",
       "      <td>12.073333</td>\n",
       "      <td>11.931333</td>\n",
       "      <td>36984000.0</td>\n",
       "      <td>11.931333</td>\n",
       "    </tr>\n",
       "    <tr>\n",
       "      <th>2020-12-31</th>\n",
       "      <td>26.990667</td>\n",
       "      <td>23.367332</td>\n",
       "      <td>24.980000</td>\n",
       "      <td>24.081333</td>\n",
       "      <td>52073100.0</td>\n",
       "      <td>24.081333</td>\n",
       "    </tr>\n",
       "    <tr>\n",
       "      <th>2021-12-31</th>\n",
       "      <td>188.736664</td>\n",
       "      <td>179.830002</td>\n",
       "      <td>184.183334</td>\n",
       "      <td>187.666672</td>\n",
       "      <td>29401800.0</td>\n",
       "      <td>187.666672</td>\n",
       "    </tr>\n",
       "    <tr>\n",
       "      <th>2022-12-31</th>\n",
       "      <td>170.919998</td>\n",
       "      <td>166.190002</td>\n",
       "      <td>168.630005</td>\n",
       "      <td>167.869995</td>\n",
       "      <td>41864700.0</td>\n",
       "      <td>167.869995</td>\n",
       "    </tr>\n",
       "  </tbody>\n",
       "</table>\n",
       "</div>"
      ],
      "text/plain": [
       "                  High         Low        Open       Close      Volume  \\\n",
       "Date                                                                     \n",
       "2017-12-31   21.054667   20.636000   20.783333   20.756666  56658000.0   \n",
       "2018-12-31   17.355333   16.306000   16.851999   16.704000  46210500.0   \n",
       "2019-12-31   12.445333   11.799333   12.073333   11.931333  36984000.0   \n",
       "2020-12-31   26.990667   23.367332   24.980000   24.081333  52073100.0   \n",
       "2021-12-31  188.736664  179.830002  184.183334  187.666672  29401800.0   \n",
       "2022-12-31  170.919998  166.190002  168.630005  167.869995  41864700.0   \n",
       "\n",
       "             Adj Close  \n",
       "Date                    \n",
       "2017-12-31   20.756666  \n",
       "2018-12-31   16.704000  \n",
       "2019-12-31   11.931333  \n",
       "2020-12-31   24.081333  \n",
       "2021-12-31  187.666672  \n",
       "2022-12-31  167.869995  "
      ]
     },
     "execution_count": 35,
     "metadata": {},
     "output_type": "execute_result"
    }
   ],
   "source": [
    "df_tesla.resample(rule='A').min()"
   ]
  },
  {
   "cell_type": "code",
   "execution_count": 36,
   "id": "6631b358",
   "metadata": {},
   "outputs": [
    {
     "data": {
      "text/html": [
       "<div>\n",
       "<style scoped>\n",
       "    .dataframe tbody tr th:only-of-type {\n",
       "        vertical-align: middle;\n",
       "    }\n",
       "\n",
       "    .dataframe tbody tr th {\n",
       "        vertical-align: top;\n",
       "    }\n",
       "\n",
       "    .dataframe thead th {\n",
       "        text-align: right;\n",
       "    }\n",
       "</style>\n",
       "<table border=\"1\" class=\"dataframe\">\n",
       "  <thead>\n",
       "    <tr style=\"text-align: right;\">\n",
       "      <th></th>\n",
       "      <th>High</th>\n",
       "      <th>Low</th>\n",
       "      <th>Open</th>\n",
       "      <th>Close</th>\n",
       "      <th>Volume</th>\n",
       "      <th>Adj Close</th>\n",
       "    </tr>\n",
       "    <tr>\n",
       "      <th>Date</th>\n",
       "      <th></th>\n",
       "      <th></th>\n",
       "      <th></th>\n",
       "      <th></th>\n",
       "      <th></th>\n",
       "      <th></th>\n",
       "    </tr>\n",
       "  </thead>\n",
       "  <tbody>\n",
       "    <tr>\n",
       "      <th>2017-12-31</th>\n",
       "      <td>23.162666</td>\n",
       "      <td>22.505333</td>\n",
       "      <td>22.993334</td>\n",
       "      <td>22.896667</td>\n",
       "      <td>130998000.0</td>\n",
       "      <td>22.896667</td>\n",
       "    </tr>\n",
       "    <tr>\n",
       "      <th>2018-12-31</th>\n",
       "      <td>25.830667</td>\n",
       "      <td>24.474667</td>\n",
       "      <td>25.000000</td>\n",
       "      <td>25.304667</td>\n",
       "      <td>504745500.0</td>\n",
       "      <td>25.304667</td>\n",
       "    </tr>\n",
       "    <tr>\n",
       "      <th>2019-12-31</th>\n",
       "      <td>29.020666</td>\n",
       "      <td>28.423332</td>\n",
       "      <td>29.000000</td>\n",
       "      <td>28.729334</td>\n",
       "      <td>450091500.0</td>\n",
       "      <td>28.729334</td>\n",
       "    </tr>\n",
       "    <tr>\n",
       "      <th>2020-12-31</th>\n",
       "      <td>239.573334</td>\n",
       "      <td>230.373337</td>\n",
       "      <td>233.330002</td>\n",
       "      <td>235.223328</td>\n",
       "      <td>914082000.0</td>\n",
       "      <td>235.223328</td>\n",
       "    </tr>\n",
       "    <tr>\n",
       "      <th>2021-12-31</th>\n",
       "      <td>414.496674</td>\n",
       "      <td>405.666656</td>\n",
       "      <td>411.470001</td>\n",
       "      <td>409.970001</td>\n",
       "      <td>268189500.0</td>\n",
       "      <td>409.970001</td>\n",
       "    </tr>\n",
       "    <tr>\n",
       "      <th>2022-12-31</th>\n",
       "      <td>402.666656</td>\n",
       "      <td>378.679993</td>\n",
       "      <td>396.516663</td>\n",
       "      <td>399.926666</td>\n",
       "      <td>151565700.0</td>\n",
       "      <td>399.926666</td>\n",
       "    </tr>\n",
       "  </tbody>\n",
       "</table>\n",
       "</div>"
      ],
      "text/plain": [
       "                  High         Low        Open       Close       Volume  \\\n",
       "Date                                                                      \n",
       "2017-12-31   23.162666   22.505333   22.993334   22.896667  130998000.0   \n",
       "2018-12-31   25.830667   24.474667   25.000000   25.304667  504745500.0   \n",
       "2019-12-31   29.020666   28.423332   29.000000   28.729334  450091500.0   \n",
       "2020-12-31  239.573334  230.373337  233.330002  235.223328  914082000.0   \n",
       "2021-12-31  414.496674  405.666656  411.470001  409.970001  268189500.0   \n",
       "2022-12-31  402.666656  378.679993  396.516663  399.926666  151565700.0   \n",
       "\n",
       "             Adj Close  \n",
       "Date                    \n",
       "2017-12-31   22.896667  \n",
       "2018-12-31   25.304667  \n",
       "2019-12-31   28.729334  \n",
       "2020-12-31  235.223328  \n",
       "2021-12-31  409.970001  \n",
       "2022-12-31  399.926666  "
      ]
     },
     "execution_count": 36,
     "metadata": {},
     "output_type": "execute_result"
    }
   ],
   "source": [
    "df_tesla.resample(rule='A').max()"
   ]
  },
  {
   "cell_type": "code",
   "execution_count": 37,
   "id": "001059a6",
   "metadata": {},
   "outputs": [
    {
     "data": {
      "text/plain": [
       "<AxesSubplot:xlabel='Date'>"
      ]
     },
     "execution_count": 37,
     "metadata": {},
     "output_type": "execute_result"
    },
    {
     "data": {
      "image/png": "[encoded data removed]",
      "text/plain": [
       "<Figure size 432x288 with 1 Axes>"
      ]
     },
     "metadata": {
      "needs_background": "light"
     },
     "output_type": "display_data"
    }
   ],
   "source": [
    "##year end frequency\n",
    "df_tesla.resample(rule='A').max()['Open'].plot()"
   ]
  },
  {
   "cell_type": "code",
   "execution_count": 38,
   "id": "841c8692",
   "metadata": {},
   "outputs": [
    {
     "data": {
      "text/plain": [
       "<AxesSubplot:xlabel='Date'>"
      ]
     },
     "execution_count": 38,
     "metadata": {},
     "output_type": "execute_result"
    },
    {
     "data": {
      "image/png": "[encoded data removed]",
      "text/plain": [
       "<Figure size 432x288 with 1 Axes>"
      ]
     },
     "metadata": {
      "needs_background": "light"
     },
     "output_type": "display_data"
    }
   ],
   "source": [
    "##quaterly start frequency\n",
    "##https://towardsdatascience.com/resample-function-of-pandas-79b17ec82a78\n",
    "df_tesla.resample(rule='QS').max()['High'].plot()"
   ]
  },
  {
   "cell_type": "code",
   "execution_count": 39,
   "id": "dd345446",
   "metadata": {},
   "outputs": [
    {
     "data": {
      "text/html": [
       "<div>\n",
       "<style scoped>\n",
       "    .dataframe tbody tr th:only-of-type {\n",
       "        vertical-align: middle;\n",
       "    }\n",
       "\n",
       "    .dataframe tbody tr th {\n",
       "        vertical-align: top;\n",
       "    }\n",
       "\n",
       "    .dataframe thead th {\n",
       "        text-align: right;\n",
       "    }\n",
       "</style>\n",
       "<table border=\"1\" class=\"dataframe\">\n",
       "  <thead>\n",
       "    <tr style=\"text-align: right;\">\n",
       "      <th></th>\n",
       "      <th>High</th>\n",
       "      <th>Low</th>\n",
       "      <th>Open</th>\n",
       "      <th>Close</th>\n",
       "      <th>Volume</th>\n",
       "      <th>Adj Close</th>\n",
       "    </tr>\n",
       "    <tr>\n",
       "      <th>Date</th>\n",
       "      <th></th>\n",
       "      <th></th>\n",
       "      <th></th>\n",
       "      <th></th>\n",
       "      <th></th>\n",
       "      <th></th>\n",
       "    </tr>\n",
       "  </thead>\n",
       "  <tbody>\n",
       "    <tr>\n",
       "      <th>2017-12-29</th>\n",
       "      <td>23.162666</td>\n",
       "      <td>22.505333</td>\n",
       "      <td>22.993334</td>\n",
       "      <td>22.896667</td>\n",
       "      <td>130998000.0</td>\n",
       "      <td>22.896667</td>\n",
       "    </tr>\n",
       "    <tr>\n",
       "      <th>2018-12-31</th>\n",
       "      <td>25.830667</td>\n",
       "      <td>24.474667</td>\n",
       "      <td>25.000000</td>\n",
       "      <td>25.304667</td>\n",
       "      <td>504745500.0</td>\n",
       "      <td>25.304667</td>\n",
       "    </tr>\n",
       "    <tr>\n",
       "      <th>2019-12-31</th>\n",
       "      <td>29.020666</td>\n",
       "      <td>28.423332</td>\n",
       "      <td>29.000000</td>\n",
       "      <td>28.729334</td>\n",
       "      <td>450091500.0</td>\n",
       "      <td>28.729334</td>\n",
       "    </tr>\n",
       "    <tr>\n",
       "      <th>2020-12-31</th>\n",
       "      <td>239.573334</td>\n",
       "      <td>230.373337</td>\n",
       "      <td>233.330002</td>\n",
       "      <td>235.223328</td>\n",
       "      <td>914082000.0</td>\n",
       "      <td>235.223328</td>\n",
       "    </tr>\n",
       "    <tr>\n",
       "      <th>2021-12-31</th>\n",
       "      <td>414.496674</td>\n",
       "      <td>405.666656</td>\n",
       "      <td>411.470001</td>\n",
       "      <td>409.970001</td>\n",
       "      <td>268189500.0</td>\n",
       "      <td>409.970001</td>\n",
       "    </tr>\n",
       "    <tr>\n",
       "      <th>2022-12-30</th>\n",
       "      <td>402.666656</td>\n",
       "      <td>378.679993</td>\n",
       "      <td>396.516663</td>\n",
       "      <td>399.926666</td>\n",
       "      <td>151565700.0</td>\n",
       "      <td>399.926666</td>\n",
       "    </tr>\n",
       "  </tbody>\n",
       "</table>\n",
       "</div>"
      ],
      "text/plain": [
       "                  High         Low        Open       Close       Volume  \\\n",
       "Date                                                                      \n",
       "2017-12-29   23.162666   22.505333   22.993334   22.896667  130998000.0   \n",
       "2018-12-31   25.830667   24.474667   25.000000   25.304667  504745500.0   \n",
       "2019-12-31   29.020666   28.423332   29.000000   28.729334  450091500.0   \n",
       "2020-12-31  239.573334  230.373337  233.330002  235.223328  914082000.0   \n",
       "2021-12-31  414.496674  405.666656  411.470001  409.970001  268189500.0   \n",
       "2022-12-30  402.666656  378.679993  396.516663  399.926666  151565700.0   \n",
       "\n",
       "             Adj Close  \n",
       "Date                    \n",
       "2017-12-29   22.896667  \n",
       "2018-12-31   25.304667  \n",
       "2019-12-31   28.729334  \n",
       "2020-12-31  235.223328  \n",
       "2021-12-31  409.970001  \n",
       "2022-12-30  399.926666  "
      ]
     },
     "execution_count": 39,
     "metadata": {},
     "output_type": "execute_result"
    }
   ],
   "source": [
    "##Business End Frequency\n",
    "##https://towardsdatascience.com/resample-function-of-pandas-79b17ec82a78\n",
    "df_tesla.resample(rule='BA').max()"
   ]
  },
  {
   "cell_type": "code",
   "execution_count": 40,
   "id": "4e52c487",
   "metadata": {},
   "outputs": [
    {
     "data": {
      "text/html": [
       "<div>\n",
       "<style scoped>\n",
       "    .dataframe tbody tr th:only-of-type {\n",
       "        vertical-align: middle;\n",
       "    }\n",
       "\n",
       "    .dataframe tbody tr th {\n",
       "        vertical-align: top;\n",
       "    }\n",
       "\n",
       "    .dataframe thead th {\n",
       "        text-align: right;\n",
       "    }\n",
       "</style>\n",
       "<table border=\"1\" class=\"dataframe\">\n",
       "  <thead>\n",
       "    <tr style=\"text-align: right;\">\n",
       "      <th></th>\n",
       "      <th>High</th>\n",
       "      <th>Low</th>\n",
       "      <th>Open</th>\n",
       "      <th>Close</th>\n",
       "      <th>Volume</th>\n",
       "      <th>Adj Close</th>\n",
       "    </tr>\n",
       "    <tr>\n",
       "      <th>Date</th>\n",
       "      <th></th>\n",
       "      <th></th>\n",
       "      <th></th>\n",
       "      <th></th>\n",
       "      <th></th>\n",
       "      <th></th>\n",
       "    </tr>\n",
       "  </thead>\n",
       "  <tbody>\n",
       "    <tr>\n",
       "      <th>2017-10-02</th>\n",
       "      <td>23.162666</td>\n",
       "      <td>22.505333</td>\n",
       "      <td>22.993334</td>\n",
       "      <td>22.896667</td>\n",
       "      <td>130998000.0</td>\n",
       "      <td>22.896667</td>\n",
       "    </tr>\n",
       "    <tr>\n",
       "      <th>2018-01-01</th>\n",
       "      <td>24.033333</td>\n",
       "      <td>23.490667</td>\n",
       "      <td>24.000000</td>\n",
       "      <td>23.827999</td>\n",
       "      <td>315021000.0</td>\n",
       "      <td>23.827999</td>\n",
       "    </tr>\n",
       "    <tr>\n",
       "      <th>2018-04-02</th>\n",
       "      <td>24.915333</td>\n",
       "      <td>23.633333</td>\n",
       "      <td>24.344000</td>\n",
       "      <td>24.722000</td>\n",
       "      <td>335211000.0</td>\n",
       "      <td>24.722000</td>\n",
       "    </tr>\n",
       "    <tr>\n",
       "      <th>2018-07-02</th>\n",
       "      <td>25.830667</td>\n",
       "      <td>24.474667</td>\n",
       "      <td>24.606001</td>\n",
       "      <td>25.304667</td>\n",
       "      <td>504745500.0</td>\n",
       "      <td>25.304667</td>\n",
       "    </tr>\n",
       "    <tr>\n",
       "      <th>2018-10-01</th>\n",
       "      <td>25.299334</td>\n",
       "      <td>24.450001</td>\n",
       "      <td>25.000000</td>\n",
       "      <td>25.119333</td>\n",
       "      <td>411382500.0</td>\n",
       "      <td>25.119333</td>\n",
       "    </tr>\n",
       "    <tr>\n",
       "      <th>2019-01-01</th>\n",
       "      <td>23.466667</td>\n",
       "      <td>22.943333</td>\n",
       "      <td>23.080667</td>\n",
       "      <td>23.153999</td>\n",
       "      <td>362262000.0</td>\n",
       "      <td>23.153999</td>\n",
       "    </tr>\n",
       "    <tr>\n",
       "      <th>2019-04-01</th>\n",
       "      <td>19.744667</td>\n",
       "      <td>19.144667</td>\n",
       "      <td>19.219999</td>\n",
       "      <td>19.454000</td>\n",
       "      <td>398206500.0</td>\n",
       "      <td>19.454000</td>\n",
       "    </tr>\n",
       "    <tr>\n",
       "      <th>2019-07-01</th>\n",
       "      <td>17.738001</td>\n",
       "      <td>17.210667</td>\n",
       "      <td>17.278000</td>\n",
       "      <td>17.658667</td>\n",
       "      <td>336274500.0</td>\n",
       "      <td>17.658667</td>\n",
       "    </tr>\n",
       "    <tr>\n",
       "      <th>2019-10-01</th>\n",
       "      <td>29.020666</td>\n",
       "      <td>28.423332</td>\n",
       "      <td>29.000000</td>\n",
       "      <td>28.729334</td>\n",
       "      <td>450091500.0</td>\n",
       "      <td>28.729334</td>\n",
       "    </tr>\n",
       "    <tr>\n",
       "      <th>2020-01-01</th>\n",
       "      <td>64.599335</td>\n",
       "      <td>60.068001</td>\n",
       "      <td>61.566666</td>\n",
       "      <td>61.161331</td>\n",
       "      <td>914082000.0</td>\n",
       "      <td>61.161331</td>\n",
       "    </tr>\n",
       "    <tr>\n",
       "      <th>2020-04-01</th>\n",
       "      <td>72.512665</td>\n",
       "      <td>66.915337</td>\n",
       "      <td>67.518669</td>\n",
       "      <td>71.987335</td>\n",
       "      <td>487977000.0</td>\n",
       "      <td>71.987335</td>\n",
       "    </tr>\n",
       "    <tr>\n",
       "      <th>2020-07-01</th>\n",
       "      <td>167.496674</td>\n",
       "      <td>156.836670</td>\n",
       "      <td>167.380005</td>\n",
       "      <td>166.106674</td>\n",
       "      <td>584781000.0</td>\n",
       "      <td>166.106674</td>\n",
       "    </tr>\n",
       "    <tr>\n",
       "      <th>2020-10-01</th>\n",
       "      <td>239.573334</td>\n",
       "      <td>230.373337</td>\n",
       "      <td>233.330002</td>\n",
       "      <td>235.223328</td>\n",
       "      <td>666378600.0</td>\n",
       "      <td>235.223328</td>\n",
       "    </tr>\n",
       "    <tr>\n",
       "      <th>2021-01-01</th>\n",
       "      <td>300.133331</td>\n",
       "      <td>290.533325</td>\n",
       "      <td>297.126678</td>\n",
       "      <td>294.363342</td>\n",
       "      <td>268189500.0</td>\n",
       "      <td>294.363342</td>\n",
       "    </tr>\n",
       "    <tr>\n",
       "      <th>2021-04-01</th>\n",
       "      <td>260.263336</td>\n",
       "      <td>244.203339</td>\n",
       "      <td>256.899994</td>\n",
       "      <td>254.106674</td>\n",
       "      <td>147052200.0</td>\n",
       "      <td>254.106674</td>\n",
       "    </tr>\n",
       "    <tr>\n",
       "      <th>2021-07-01</th>\n",
       "      <td>266.333344</td>\n",
       "      <td>258.333344</td>\n",
       "      <td>262.399994</td>\n",
       "      <td>263.786682</td>\n",
       "      <td>100847400.0</td>\n",
       "      <td>263.786682</td>\n",
       "    </tr>\n",
       "    <tr>\n",
       "      <th>2021-10-01</th>\n",
       "      <td>414.496674</td>\n",
       "      <td>405.666656</td>\n",
       "      <td>411.470001</td>\n",
       "      <td>409.970001</td>\n",
       "      <td>188556300.0</td>\n",
       "      <td>409.970001</td>\n",
       "    </tr>\n",
       "    <tr>\n",
       "      <th>2022-01-03</th>\n",
       "      <td>402.666656</td>\n",
       "      <td>378.679993</td>\n",
       "      <td>396.516663</td>\n",
       "      <td>399.926666</td>\n",
       "      <td>151565700.0</td>\n",
       "      <td>399.926666</td>\n",
       "    </tr>\n",
       "    <tr>\n",
       "      <th>2022-04-01</th>\n",
       "      <td>384.290009</td>\n",
       "      <td>362.433319</td>\n",
       "      <td>378.766663</td>\n",
       "      <td>381.816681</td>\n",
       "      <td>144973200.0</td>\n",
       "      <td>381.816681</td>\n",
       "    </tr>\n",
       "    <tr>\n",
       "      <th>2022-07-01</th>\n",
       "      <td>314.666656</td>\n",
       "      <td>305.579987</td>\n",
       "      <td>311.666656</td>\n",
       "      <td>309.320007</td>\n",
       "      <td>142032300.0</td>\n",
       "      <td>309.320007</td>\n",
       "    </tr>\n",
       "    <tr>\n",
       "      <th>2022-10-03</th>\n",
       "      <td>257.500000</td>\n",
       "      <td>242.009995</td>\n",
       "      <td>254.500000</td>\n",
       "      <td>249.440002</td>\n",
       "      <td>132703000.0</td>\n",
       "      <td>249.440002</td>\n",
       "    </tr>\n",
       "  </tbody>\n",
       "</table>\n",
       "</div>"
      ],
      "text/plain": [
       "                  High         Low        Open       Close       Volume  \\\n",
       "Date                                                                      \n",
       "2017-10-02   23.162666   22.505333   22.993334   22.896667  130998000.0   \n",
       "2018-01-01   24.033333   23.490667   24.000000   23.827999  315021000.0   \n",
       "2018-04-02   24.915333   23.633333   24.344000   24.722000  335211000.0   \n",
       "2018-07-02   25.830667   24.474667   24.606001   25.304667  504745500.0   \n",
       "2018-10-01   25.299334   24.450001   25.000000   25.119333  411382500.0   \n",
       "2019-01-01   23.466667   22.943333   23.080667   23.153999  362262000.0   \n",
       "2019-04-01   19.744667   19.144667   19.219999   19.454000  398206500.0   \n",
       "2019-07-01   17.738001   17.210667   17.278000   17.658667  336274500.0   \n",
       "2019-10-01   29.020666   28.423332   29.000000   28.729334  450091500.0   \n",
       "2020-01-01   64.599335   60.068001   61.566666   61.161331  914082000.0   \n",
       "2020-04-01   72.512665   66.915337   67.518669   71.987335  487977000.0   \n",
       "2020-07-01  167.496674  156.836670  167.380005  166.106674  584781000.0   \n",
       "2020-10-01  239.573334  230.373337  233.330002  235.223328  666378600.0   \n",
       "2021-01-01  300.133331  290.533325  297.126678  294.363342  268189500.0   \n",
       "2021-04-01  260.263336  244.203339  256.899994  254.106674  147052200.0   \n",
       "2021-07-01  266.333344  258.333344  262.399994  263.786682  100847400.0   \n",
       "2021-10-01  414.496674  405.666656  411.470001  409.970001  188556300.0   \n",
       "2022-01-03  402.666656  378.679993  396.516663  399.926666  151565700.0   \n",
       "2022-04-01  384.290009  362.433319  378.766663  381.816681  144973200.0   \n",
       "2022-07-01  314.666656  305.579987  311.666656  309.320007  142032300.0   \n",
       "2022-10-03  257.500000  242.009995  254.500000  249.440002  132703000.0   \n",
       "\n",
       "             Adj Close  \n",
       "Date                    \n",
       "2017-10-02   22.896667  \n",
       "2018-01-01   23.827999  \n",
       "2018-04-02   24.722000  \n",
       "2018-07-02   25.304667  \n",
       "2018-10-01   25.119333  \n",
       "2019-01-01   23.153999  \n",
       "2019-04-01   19.454000  \n",
       "2019-07-01   17.658667  \n",
       "2019-10-01   28.729334  \n",
       "2020-01-01   61.161331  \n",
       "2020-04-01   71.987335  \n",
       "2020-07-01  166.106674  \n",
       "2020-10-01  235.223328  \n",
       "2021-01-01  294.363342  \n",
       "2021-04-01  254.106674  \n",
       "2021-07-01  263.786682  \n",
       "2021-10-01  409.970001  \n",
       "2022-01-03  399.926666  \n",
       "2022-04-01  381.816681  \n",
       "2022-07-01  309.320007  \n",
       "2022-10-03  249.440002  "
      ]
     },
     "execution_count": 40,
     "metadata": {},
     "output_type": "execute_result"
    }
   ],
   "source": [
    "df_tesla.resample(rule='BQS').max()"
   ]
  },
  {
   "cell_type": "code",
   "execution_count": 41,
   "id": "add34d29",
   "metadata": {},
   "outputs": [
    {
     "data": {
      "text/plain": [
       "<AxesSubplot:xlabel='Date'>"
      ]
     },
     "execution_count": 41,
     "metadata": {},
     "output_type": "execute_result"
    },
    {
     "data": {
      "image/png": "[encoded data removed]",
      "text/plain": [
       "<Figure size 432x288 with 1 Axes>"
      ]
     },
     "metadata": {
      "needs_background": "light"
     },
     "output_type": "display_data"
    }
   ],
   "source": [
    "##plotting\n",
    "df_tesla['Open'].resample(rule='A').mean().plot(kind='bar')"
   ]
  },
  {
   "cell_type": "code",
   "execution_count": 42,
   "id": "e08fcfbb",
   "metadata": {},
   "outputs": [
    {
     "data": {
      "text/plain": [
       "<AxesSubplot:xlabel='Date'>"
      ]
     },
     "execution_count": 42,
     "metadata": {},
     "output_type": "execute_result"
    },
    {
     "data": {
      "image/png": "[encoded data removed]",
      "text/plain": [
       "<Figure size 1080x432 with 1 Axes>"
      ]
     },
     "metadata": {
      "needs_background": "light"
     },
     "output_type": "display_data"
    }
   ],
   "source": [
    "df_tesla['Open'].resample(rule='M').max().plot(kind='bar',figsize=(15,6))"
   ]
  },
  {
   "cell_type": "code",
   "execution_count": 43,
   "id": "c31f0d1f",
   "metadata": {},
   "outputs": [
    {
     "data": {
      "text/plain": [
       "Date\n",
       "2017-12-11          NaN\n",
       "2017-12-12          NaN\n",
       "2017-12-13          NaN\n",
       "2017-12-14          NaN\n",
       "2017-12-15          NaN\n",
       "2017-12-18          NaN\n",
       "2017-12-19          NaN\n",
       "2017-12-20          NaN\n",
       "2017-12-21          NaN\n",
       "2017-12-22          NaN\n",
       "2017-12-26    23.162666\n",
       "2017-12-27    23.162666\n",
       "2017-12-28    23.162666\n",
       "2017-12-29    23.162666\n",
       "2018-01-02    23.115334\n",
       "2018-01-03    23.115334\n",
       "2018-01-04    22.766001\n",
       "2018-01-05    22.249332\n",
       "2018-01-08    22.468000\n",
       "2018-01-09    22.586666\n",
       "Name: High, dtype: float64"
      ]
     },
     "execution_count": 43,
     "metadata": {},
     "output_type": "execute_result"
    }
   ],
   "source": [
    "df_tesla['High'].rolling(11).max().head(20)"
   ]
  },
  {
   "cell_type": "code",
   "execution_count": 44,
   "id": "342b48ae",
   "metadata": {},
   "outputs": [
    {
     "data": {
      "text/html": [
       "<div>\n",
       "<style scoped>\n",
       "    .dataframe tbody tr th:only-of-type {\n",
       "        vertical-align: middle;\n",
       "    }\n",
       "\n",
       "    .dataframe tbody tr th {\n",
       "        vertical-align: top;\n",
       "    }\n",
       "\n",
       "    .dataframe thead th {\n",
       "        text-align: right;\n",
       "    }\n",
       "</style>\n",
       "<table border=\"1\" class=\"dataframe\">\n",
       "  <thead>\n",
       "    <tr style=\"text-align: right;\">\n",
       "      <th></th>\n",
       "      <th>High</th>\n",
       "      <th>Low</th>\n",
       "      <th>Open</th>\n",
       "      <th>Close</th>\n",
       "      <th>Volume</th>\n",
       "      <th>Adj Close</th>\n",
       "    </tr>\n",
       "    <tr>\n",
       "      <th>Date</th>\n",
       "      <th></th>\n",
       "      <th></th>\n",
       "      <th></th>\n",
       "      <th></th>\n",
       "      <th></th>\n",
       "      <th></th>\n",
       "    </tr>\n",
       "  </thead>\n",
       "  <tbody>\n",
       "    <tr>\n",
       "      <th>2017-12-11</th>\n",
       "      <td>21.934000</td>\n",
       "      <td>20.916668</td>\n",
       "      <td>20.975332</td>\n",
       "      <td>21.927334</td>\n",
       "      <td>119070000.0</td>\n",
       "      <td>21.927334</td>\n",
       "    </tr>\n",
       "    <tr>\n",
       "      <th>2017-12-12</th>\n",
       "      <td>22.762667</td>\n",
       "      <td>22.002001</td>\n",
       "      <td>22.030001</td>\n",
       "      <td>22.735332</td>\n",
       "      <td>130998000.0</td>\n",
       "      <td>22.735332</td>\n",
       "    </tr>\n",
       "    <tr>\n",
       "      <th>2017-12-13</th>\n",
       "      <td>22.948000</td>\n",
       "      <td>22.433332</td>\n",
       "      <td>22.728666</td>\n",
       "      <td>22.601999</td>\n",
       "      <td>93322500.0</td>\n",
       "      <td>22.601999</td>\n",
       "    </tr>\n",
       "    <tr>\n",
       "      <th>2017-12-14</th>\n",
       "      <td>23.162666</td>\n",
       "      <td>22.459999</td>\n",
       "      <td>22.733999</td>\n",
       "      <td>22.525999</td>\n",
       "      <td>86998500.0</td>\n",
       "      <td>22.525999</td>\n",
       "    </tr>\n",
       "    <tr>\n",
       "      <th>2017-12-15</th>\n",
       "      <td>22.926666</td>\n",
       "      <td>22.384001</td>\n",
       "      <td>22.802668</td>\n",
       "      <td>22.896667</td>\n",
       "      <td>103998000.0</td>\n",
       "      <td>22.896667</td>\n",
       "    </tr>\n",
       "  </tbody>\n",
       "</table>\n",
       "</div>"
      ],
      "text/plain": [
       "                 High        Low       Open      Close       Volume  Adj Close\n",
       "Date                                                                          \n",
       "2017-12-11  21.934000  20.916668  20.975332  21.927334  119070000.0  21.927334\n",
       "2017-12-12  22.762667  22.002001  22.030001  22.735332  130998000.0  22.735332\n",
       "2017-12-13  22.948000  22.433332  22.728666  22.601999   93322500.0  22.601999\n",
       "2017-12-14  23.162666  22.459999  22.733999  22.525999   86998500.0  22.525999\n",
       "2017-12-15  22.926666  22.384001  22.802668  22.896667  103998000.0  22.896667"
      ]
     },
     "execution_count": 44,
     "metadata": {},
     "output_type": "execute_result"
    }
   ],
   "source": [
    "df_tesla.head()"
   ]
  },
  {
   "cell_type": "code",
   "execution_count": 45,
   "id": "2c1f1544",
   "metadata": {},
   "outputs": [],
   "source": [
    "df_tesla['Open:30 days rolling']=df_tesla['Open'].rolling(30).mean()"
   ]
  },
  {
   "cell_type": "code",
   "execution_count": 46,
   "id": "da7783ab",
   "metadata": {},
   "outputs": [
    {
     "data": {
      "text/html": [
       "<div>\n",
       "<style scoped>\n",
       "    .dataframe tbody tr th:only-of-type {\n",
       "        vertical-align: middle;\n",
       "    }\n",
       "\n",
       "    .dataframe tbody tr th {\n",
       "        vertical-align: top;\n",
       "    }\n",
       "\n",
       "    .dataframe thead th {\n",
       "        text-align: right;\n",
       "    }\n",
       "</style>\n",
       "<table border=\"1\" class=\"dataframe\">\n",
       "  <thead>\n",
       "    <tr style=\"text-align: right;\">\n",
       "      <th></th>\n",
       "      <th>High</th>\n",
       "      <th>Low</th>\n",
       "      <th>Open</th>\n",
       "      <th>Close</th>\n",
       "      <th>Volume</th>\n",
       "      <th>Adj Close</th>\n",
       "      <th>Open:30 days rolling</th>\n",
       "    </tr>\n",
       "    <tr>\n",
       "      <th>Date</th>\n",
       "      <th></th>\n",
       "      <th></th>\n",
       "      <th></th>\n",
       "      <th></th>\n",
       "      <th></th>\n",
       "      <th></th>\n",
       "      <th></th>\n",
       "    </tr>\n",
       "  </thead>\n",
       "  <tbody>\n",
       "    <tr>\n",
       "      <th>2017-12-11</th>\n",
       "      <td>21.934000</td>\n",
       "      <td>20.916668</td>\n",
       "      <td>20.975332</td>\n",
       "      <td>21.927334</td>\n",
       "      <td>119070000.0</td>\n",
       "      <td>21.927334</td>\n",
       "      <td>NaN</td>\n",
       "    </tr>\n",
       "    <tr>\n",
       "      <th>2017-12-12</th>\n",
       "      <td>22.762667</td>\n",
       "      <td>22.002001</td>\n",
       "      <td>22.030001</td>\n",
       "      <td>22.735332</td>\n",
       "      <td>130998000.0</td>\n",
       "      <td>22.735332</td>\n",
       "      <td>NaN</td>\n",
       "    </tr>\n",
       "    <tr>\n",
       "      <th>2017-12-13</th>\n",
       "      <td>22.948000</td>\n",
       "      <td>22.433332</td>\n",
       "      <td>22.728666</td>\n",
       "      <td>22.601999</td>\n",
       "      <td>93322500.0</td>\n",
       "      <td>22.601999</td>\n",
       "      <td>NaN</td>\n",
       "    </tr>\n",
       "    <tr>\n",
       "      <th>2017-12-14</th>\n",
       "      <td>23.162666</td>\n",
       "      <td>22.459999</td>\n",
       "      <td>22.733999</td>\n",
       "      <td>22.525999</td>\n",
       "      <td>86998500.0</td>\n",
       "      <td>22.525999</td>\n",
       "      <td>NaN</td>\n",
       "    </tr>\n",
       "    <tr>\n",
       "      <th>2017-12-15</th>\n",
       "      <td>22.926666</td>\n",
       "      <td>22.384001</td>\n",
       "      <td>22.802668</td>\n",
       "      <td>22.896667</td>\n",
       "      <td>103998000.0</td>\n",
       "      <td>22.896667</td>\n",
       "      <td>NaN</td>\n",
       "    </tr>\n",
       "    <tr>\n",
       "      <th>2017-12-18</th>\n",
       "      <td>23.115334</td>\n",
       "      <td>22.505333</td>\n",
       "      <td>22.993334</td>\n",
       "      <td>22.591333</td>\n",
       "      <td>82143000.0</td>\n",
       "      <td>22.591333</td>\n",
       "      <td>NaN</td>\n",
       "    </tr>\n",
       "    <tr>\n",
       "      <th>2017-12-19</th>\n",
       "      <td>22.766001</td>\n",
       "      <td>22.020000</td>\n",
       "      <td>22.684000</td>\n",
       "      <td>22.073334</td>\n",
       "      <td>102375000.0</td>\n",
       "      <td>22.073334</td>\n",
       "      <td>NaN</td>\n",
       "    </tr>\n",
       "    <tr>\n",
       "      <th>2017-12-20</th>\n",
       "      <td>22.206667</td>\n",
       "      <td>21.669333</td>\n",
       "      <td>22.179333</td>\n",
       "      <td>21.931999</td>\n",
       "      <td>89307000.0</td>\n",
       "      <td>21.931999</td>\n",
       "      <td>NaN</td>\n",
       "    </tr>\n",
       "    <tr>\n",
       "      <th>2017-12-21</th>\n",
       "      <td>22.249332</td>\n",
       "      <td>21.813999</td>\n",
       "      <td>21.972668</td>\n",
       "      <td>22.110666</td>\n",
       "      <td>65778000.0</td>\n",
       "      <td>22.110666</td>\n",
       "      <td>NaN</td>\n",
       "    </tr>\n",
       "    <tr>\n",
       "      <th>2017-12-22</th>\n",
       "      <td>22.061333</td>\n",
       "      <td>21.654667</td>\n",
       "      <td>21.967333</td>\n",
       "      <td>21.680000</td>\n",
       "      <td>63237000.0</td>\n",
       "      <td>21.680000</td>\n",
       "      <td>NaN</td>\n",
       "    </tr>\n",
       "    <tr>\n",
       "      <th>2017-12-26</th>\n",
       "      <td>21.596001</td>\n",
       "      <td>21.105333</td>\n",
       "      <td>21.588667</td>\n",
       "      <td>21.152666</td>\n",
       "      <td>65676000.0</td>\n",
       "      <td>21.152666</td>\n",
       "      <td>NaN</td>\n",
       "    </tr>\n",
       "    <tr>\n",
       "      <th>2017-12-27</th>\n",
       "      <td>21.178667</td>\n",
       "      <td>20.716667</td>\n",
       "      <td>21.066668</td>\n",
       "      <td>20.775999</td>\n",
       "      <td>70681500.0</td>\n",
       "      <td>20.775999</td>\n",
       "      <td>NaN</td>\n",
       "    </tr>\n",
       "    <tr>\n",
       "      <th>2017-12-28</th>\n",
       "      <td>21.054667</td>\n",
       "      <td>20.636000</td>\n",
       "      <td>20.783333</td>\n",
       "      <td>21.024000</td>\n",
       "      <td>64744500.0</td>\n",
       "      <td>21.024000</td>\n",
       "      <td>NaN</td>\n",
       "    </tr>\n",
       "    <tr>\n",
       "      <th>2017-12-29</th>\n",
       "      <td>21.094000</td>\n",
       "      <td>20.666668</td>\n",
       "      <td>21.078667</td>\n",
       "      <td>20.756666</td>\n",
       "      <td>56658000.0</td>\n",
       "      <td>20.756666</td>\n",
       "      <td>NaN</td>\n",
       "    </tr>\n",
       "    <tr>\n",
       "      <th>2018-01-02</th>\n",
       "      <td>21.474001</td>\n",
       "      <td>20.733334</td>\n",
       "      <td>20.799999</td>\n",
       "      <td>21.368668</td>\n",
       "      <td>65283000.0</td>\n",
       "      <td>21.368668</td>\n",
       "      <td>NaN</td>\n",
       "    </tr>\n",
       "    <tr>\n",
       "      <th>2018-01-03</th>\n",
       "      <td>21.683332</td>\n",
       "      <td>21.036667</td>\n",
       "      <td>21.400000</td>\n",
       "      <td>21.150000</td>\n",
       "      <td>67822500.0</td>\n",
       "      <td>21.150000</td>\n",
       "      <td>NaN</td>\n",
       "    </tr>\n",
       "    <tr>\n",
       "      <th>2018-01-04</th>\n",
       "      <td>21.236668</td>\n",
       "      <td>20.378668</td>\n",
       "      <td>20.858000</td>\n",
       "      <td>20.974667</td>\n",
       "      <td>149194500.0</td>\n",
       "      <td>20.974667</td>\n",
       "      <td>NaN</td>\n",
       "    </tr>\n",
       "    <tr>\n",
       "      <th>2018-01-05</th>\n",
       "      <td>21.149332</td>\n",
       "      <td>20.799999</td>\n",
       "      <td>21.108000</td>\n",
       "      <td>21.105333</td>\n",
       "      <td>68868000.0</td>\n",
       "      <td>21.105333</td>\n",
       "      <td>NaN</td>\n",
       "    </tr>\n",
       "    <tr>\n",
       "      <th>2018-01-08</th>\n",
       "      <td>22.468000</td>\n",
       "      <td>21.033333</td>\n",
       "      <td>21.066668</td>\n",
       "      <td>22.427334</td>\n",
       "      <td>147891000.0</td>\n",
       "      <td>22.427334</td>\n",
       "      <td>NaN</td>\n",
       "    </tr>\n",
       "    <tr>\n",
       "      <th>2018-01-09</th>\n",
       "      <td>22.586666</td>\n",
       "      <td>21.826668</td>\n",
       "      <td>22.344000</td>\n",
       "      <td>22.246000</td>\n",
       "      <td>107199000.0</td>\n",
       "      <td>22.246000</td>\n",
       "      <td>NaN</td>\n",
       "    </tr>\n",
       "    <tr>\n",
       "      <th>2018-01-10</th>\n",
       "      <td>22.466667</td>\n",
       "      <td>22.000000</td>\n",
       "      <td>22.146667</td>\n",
       "      <td>22.320000</td>\n",
       "      <td>64648500.0</td>\n",
       "      <td>22.320000</td>\n",
       "      <td>NaN</td>\n",
       "    </tr>\n",
       "    <tr>\n",
       "      <th>2018-01-11</th>\n",
       "      <td>22.987333</td>\n",
       "      <td>22.217333</td>\n",
       "      <td>22.349333</td>\n",
       "      <td>22.530001</td>\n",
       "      <td>99682500.0</td>\n",
       "      <td>22.530001</td>\n",
       "      <td>NaN</td>\n",
       "    </tr>\n",
       "    <tr>\n",
       "      <th>2018-01-12</th>\n",
       "      <td>22.694000</td>\n",
       "      <td>22.244667</td>\n",
       "      <td>22.575333</td>\n",
       "      <td>22.414667</td>\n",
       "      <td>72376500.0</td>\n",
       "      <td>22.414667</td>\n",
       "      <td>NaN</td>\n",
       "    </tr>\n",
       "    <tr>\n",
       "      <th>2018-01-16</th>\n",
       "      <td>23.000000</td>\n",
       "      <td>22.320000</td>\n",
       "      <td>22.502666</td>\n",
       "      <td>22.670668</td>\n",
       "      <td>97114500.0</td>\n",
       "      <td>22.670668</td>\n",
       "      <td>NaN</td>\n",
       "    </tr>\n",
       "    <tr>\n",
       "      <th>2018-01-17</th>\n",
       "      <td>23.266666</td>\n",
       "      <td>22.650000</td>\n",
       "      <td>22.698000</td>\n",
       "      <td>23.143999</td>\n",
       "      <td>106552500.0</td>\n",
       "      <td>23.143999</td>\n",
       "      <td>NaN</td>\n",
       "    </tr>\n",
       "    <tr>\n",
       "      <th>2018-01-18</th>\n",
       "      <td>23.486668</td>\n",
       "      <td>22.916000</td>\n",
       "      <td>23.044666</td>\n",
       "      <td>22.971333</td>\n",
       "      <td>85287000.0</td>\n",
       "      <td>22.971333</td>\n",
       "      <td>NaN</td>\n",
       "    </tr>\n",
       "    <tr>\n",
       "      <th>2018-01-19</th>\n",
       "      <td>23.372667</td>\n",
       "      <td>22.840000</td>\n",
       "      <td>23.000000</td>\n",
       "      <td>23.334667</td>\n",
       "      <td>73324500.0</td>\n",
       "      <td>23.334667</td>\n",
       "      <td>NaN</td>\n",
       "    </tr>\n",
       "    <tr>\n",
       "      <th>2018-01-22</th>\n",
       "      <td>23.855333</td>\n",
       "      <td>23.280001</td>\n",
       "      <td>23.293333</td>\n",
       "      <td>23.437332</td>\n",
       "      <td>93156000.0</td>\n",
       "      <td>23.437332</td>\n",
       "      <td>NaN</td>\n",
       "    </tr>\n",
       "    <tr>\n",
       "      <th>2018-01-23</th>\n",
       "      <td>24.033333</td>\n",
       "      <td>23.400000</td>\n",
       "      <td>24.000000</td>\n",
       "      <td>23.519333</td>\n",
       "      <td>81981000.0</td>\n",
       "      <td>23.519333</td>\n",
       "      <td>NaN</td>\n",
       "    </tr>\n",
       "    <tr>\n",
       "      <th>2018-01-24</th>\n",
       "      <td>23.650000</td>\n",
       "      <td>22.901333</td>\n",
       "      <td>23.638666</td>\n",
       "      <td>23.059334</td>\n",
       "      <td>79312500.0</td>\n",
       "      <td>23.059334</td>\n",
       "      <td>22.147000</td>\n",
       "    </tr>\n",
       "    <tr>\n",
       "      <th>2018-01-25</th>\n",
       "      <td>23.280001</td>\n",
       "      <td>22.426666</td>\n",
       "      <td>23.218000</td>\n",
       "      <td>22.509333</td>\n",
       "      <td>101104500.0</td>\n",
       "      <td>22.509333</td>\n",
       "      <td>22.221756</td>\n",
       "    </tr>\n",
       "  </tbody>\n",
       "</table>\n",
       "</div>"
      ],
      "text/plain": [
       "                 High        Low       Open      Close       Volume  \\\n",
       "Date                                                                  \n",
       "2017-12-11  21.934000  20.916668  20.975332  21.927334  119070000.0   \n",
       "2017-12-12  22.762667  22.002001  22.030001  22.735332  130998000.0   \n",
       "2017-12-13  22.948000  22.433332  22.728666  22.601999   93322500.0   \n",
       "2017-12-14  23.162666  22.459999  22.733999  22.525999   86998500.0   \n",
       "2017-12-15  22.926666  22.384001  22.802668  22.896667  103998000.0   \n",
       "2017-12-18  23.115334  22.505333  22.993334  22.591333   82143000.0   \n",
       "2017-12-19  22.766001  22.020000  22.684000  22.073334  102375000.0   \n",
       "2017-12-20  22.206667  21.669333  22.179333  21.931999   89307000.0   \n",
       "2017-12-21  22.249332  21.813999  21.972668  22.110666   65778000.0   \n",
       "2017-12-22  22.061333  21.654667  21.967333  21.680000   63237000.0   \n",
       "2017-12-26  21.596001  21.105333  21.588667  21.152666   65676000.0   \n",
       "2017-12-27  21.178667  20.716667  21.066668  20.775999   70681500.0   \n",
       "2017-12-28  21.054667  20.636000  20.783333  21.024000   64744500.0   \n",
       "2017-12-29  21.094000  20.666668  21.078667  20.756666   56658000.0   \n",
       "2018-01-02  21.474001  20.733334  20.799999  21.368668   65283000.0   \n",
       "2018-01-03  21.683332  21.036667  21.400000  21.150000   67822500.0   \n",
       "2018-01-04  21.236668  20.378668  20.858000  20.974667  149194500.0   \n",
       "2018-01-05  21.149332  20.799999  21.108000  21.105333   68868000.0   \n",
       "2018-01-08  22.468000  21.033333  21.066668  22.427334  147891000.0   \n",
       "2018-01-09  22.586666  21.826668  22.344000  22.246000  107199000.0   \n",
       "2018-01-10  22.466667  22.000000  22.146667  22.320000   64648500.0   \n",
       "2018-01-11  22.987333  22.217333  22.349333  22.530001   99682500.0   \n",
       "2018-01-12  22.694000  22.244667  22.575333  22.414667   72376500.0   \n",
       "2018-01-16  23.000000  22.320000  22.502666  22.670668   97114500.0   \n",
       "2018-01-17  23.266666  22.650000  22.698000  23.143999  106552500.0   \n",
       "2018-01-18  23.486668  22.916000  23.044666  22.971333   85287000.0   \n",
       "2018-01-19  23.372667  22.840000  23.000000  23.334667   73324500.0   \n",
       "2018-01-22  23.855333  23.280001  23.293333  23.437332   93156000.0   \n",
       "2018-01-23  24.033333  23.400000  24.000000  23.519333   81981000.0   \n",
       "2018-01-24  23.650000  22.901333  23.638666  23.059334   79312500.0   \n",
       "2018-01-25  23.280001  22.426666  23.218000  22.509333  101104500.0   \n",
       "\n",
       "            Adj Close  Open:30 days rolling  \n",
       "Date                                         \n",
       "2017-12-11  21.927334                   NaN  \n",
       "2017-12-12  22.735332                   NaN  \n",
       "2017-12-13  22.601999                   NaN  \n",
       "2017-12-14  22.525999                   NaN  \n",
       "2017-12-15  22.896667                   NaN  \n",
       "2017-12-18  22.591333                   NaN  \n",
       "2017-12-19  22.073334                   NaN  \n",
       "2017-12-20  21.931999                   NaN  \n",
       "2017-12-21  22.110666                   NaN  \n",
       "2017-12-22  21.680000                   NaN  \n",
       "2017-12-26  21.152666                   NaN  \n",
       "2017-12-27  20.775999                   NaN  \n",
       "2017-12-28  21.024000                   NaN  \n",
       "2017-12-29  20.756666                   NaN  \n",
       "2018-01-02  21.368668                   NaN  \n",
       "2018-01-03  21.150000                   NaN  \n",
       "2018-01-04  20.974667                   NaN  \n",
       "2018-01-05  21.105333                   NaN  \n",
       "2018-01-08  22.427334                   NaN  \n",
       "2018-01-09  22.246000                   NaN  \n",
       "2018-01-10  22.320000                   NaN  \n",
       "2018-01-11  22.530001                   NaN  \n",
       "2018-01-12  22.414667                   NaN  \n",
       "2018-01-16  22.670668                   NaN  \n",
       "2018-01-17  23.143999                   NaN  \n",
       "2018-01-18  22.971333                   NaN  \n",
       "2018-01-19  23.334667                   NaN  \n",
       "2018-01-22  23.437332                   NaN  \n",
       "2018-01-23  23.519333                   NaN  \n",
       "2018-01-24  23.059334             22.147000  \n",
       "2018-01-25  22.509333             22.221756  "
      ]
     },
     "execution_count": 46,
     "metadata": {},
     "output_type": "execute_result"
    }
   ],
   "source": [
    "df_tesla.head(31)"
   ]
  },
  {
   "cell_type": "code",
   "execution_count": 47,
   "id": "a60521df",
   "metadata": {},
   "outputs": [
    {
     "data": {
      "text/plain": [
       "<AxesSubplot:xlabel='Date'>"
      ]
     },
     "execution_count": 47,
     "metadata": {},
     "output_type": "execute_result"
    },
    {
     "data": {
      "image/png": "[encoded data removed]",
      "text/plain": [
       "<Figure size 864x360 with 1 Axes>"
      ]
     },
     "metadata": {
      "needs_background": "light"
     },
     "output_type": "display_data"
    }
   ],
   "source": [
    "df_tesla[['Open','Open:30 days rolling']].plot(figsize=(12,5))"
   ]
  }
 ],
 "metadata": {
  "kernelspec": {
   "display_name": "Python 3 (ipykernel)",
   "language": "python",
   "name": "python3"
  },
  "language_info": {
   "codemirror_mode": {
    "name": "ipython",
    "version": 3
   },
   "file_extension": ".py",
   "mimetype": "text/x-python",
   "name": "python",
   "nbconvert_exporter": "python",
   "pygments_lexer": "ipython3",
   "version": "3.9.12"
  }
 },
 "nbformat": 4,
 "nbformat_minor": 5
}
